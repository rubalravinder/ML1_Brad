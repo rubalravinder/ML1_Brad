{
 "cells": [
  {
   "cell_type": "code",
   "execution_count": 1,
   "metadata": {},
   "outputs": [],
   "source": [
    "import pandas as pd"
   ]
  },
  {
   "cell_type": "code",
   "execution_count": 2,
   "metadata": {},
   "outputs": [],
   "source": [
    "df_arbres=pd.read_csv('./data_arbres.csv')"
   ]
  },
  {
   "cell_type": "code",
   "execution_count": 3,
   "metadata": {
    "collapsed": true
   },
   "outputs": [
    {
     "name": "stdout",
     "output_type": "stream",
     "text": [
      "<class 'pandas.core.frame.DataFrame'>\n",
      "RangeIndex: 31852 entries, 0 to 31851\n",
      "Data columns (total 32 columns):\n",
      " #   Column                 Non-Null Count  Dtype  \n",
      "---  ------                 --------------  -----  \n",
      " 0   ELEM_POINT_ID          31852 non-null  int64  \n",
      " 1   CODE                   31852 non-null  object \n",
      " 2   NOM                    31852 non-null  object \n",
      " 3   GENRE                  31852 non-null  object \n",
      " 4   GENRE_DESC             31852 non-null  object \n",
      " 5   CATEGORIE              31852 non-null  object \n",
      " 6   CATEGORIE_DESC         31852 non-null  object \n",
      " 7   SOUS_CATEGORIE         31852 non-null  object \n",
      " 8   SOUS_CATEGORIE_DESC    31852 non-null  object \n",
      " 9   CODE_PARENT            31852 non-null  object \n",
      " 10  CODE_PARENT_DESC       31852 non-null  object \n",
      " 11  ADR_SECTEUR            31852 non-null  int64  \n",
      " 12  BIEN_REFERENCE         31852 non-null  object \n",
      " 13  GENRE_BOTA             31431 non-null  object \n",
      " 14  ESPECE                 29672 non-null  object \n",
      " 15  VARIETE                4184 non-null   object \n",
      " 16  STADEDEDEVELOPPEMENT   29192 non-null  object \n",
      " 17  EQUIPE                 0 non-null      float64\n",
      " 18  REMARQUES              1501 non-null   object \n",
      " 19  ANNEEDEPLANTATION      30737 non-null  float64\n",
      " 20  RAISONDEPLANTATION     2728 non-null   object \n",
      " 21  TRAITEMENTCHENILLES    2225 non-null   object \n",
      " 22  COURRIER               0 non-null      float64\n",
      " 23  IDENTIFIANTPLU         604 non-null    float64\n",
      " 24  TYPEIMPLANTATIONPLU    604 non-null    object \n",
      " 25  INTITULEPROTECTIONPLU  604 non-null    object \n",
      " 26  ANNEEABATTAGE          0 non-null      float64\n",
      " 27  ESSOUCHEMENT           0 non-null      float64\n",
      " 28  DIAMETREARBRE          0 non-null      float64\n",
      " 29  CAUSEABATTAGE          0 non-null      float64\n",
      " 30  COLLECTIVITE           31104 non-null  object \n",
      " 31  GeoJSON                31852 non-null  object \n",
      "dtypes: float64(8), int64(2), object(22)\n",
      "memory usage: 7.8+ MB\n"
     ]
    }
   ],
   "source": [
    "# EXPLORATION DES DONNEES\n",
    "\n",
    "df_arbres.info()"
   ]
  },
  {
   "cell_type": "code",
   "execution_count": 4,
   "metadata": {},
   "outputs": [
    {
     "name": "stdout",
     "output_type": "stream",
     "text": [
      "<class 'pandas.core.frame.DataFrame'>\n",
      "Int64Index: 30737 entries, 0 to 31851\n",
      "Data columns (total 32 columns):\n",
      " #   Column                 Non-Null Count  Dtype  \n",
      "---  ------                 --------------  -----  \n",
      " 0   ELEM_POINT_ID          30737 non-null  int64  \n",
      " 1   CODE                   30737 non-null  object \n",
      " 2   NOM                    30737 non-null  object \n",
      " 3   GENRE                  30737 non-null  object \n",
      " 4   GENRE_DESC             30737 non-null  object \n",
      " 5   CATEGORIE              30737 non-null  object \n",
      " 6   CATEGORIE_DESC         30737 non-null  object \n",
      " 7   SOUS_CATEGORIE         30737 non-null  object \n",
      " 8   SOUS_CATEGORIE_DESC    30737 non-null  object \n",
      " 9   CODE_PARENT            30737 non-null  object \n",
      " 10  CODE_PARENT_DESC       30737 non-null  object \n",
      " 11  ADR_SECTEUR            30737 non-null  int64  \n",
      " 12  BIEN_REFERENCE         30737 non-null  object \n",
      " 13  GENRE_BOTA             30700 non-null  object \n",
      " 14  ESPECE                 29109 non-null  object \n",
      " 15  VARIETE                4137 non-null   object \n",
      " 16  STADEDEDEVELOPPEMENT   29105 non-null  object \n",
      " 17  EQUIPE                 0 non-null      float64\n",
      " 18  REMARQUES              1500 non-null   object \n",
      " 19  ANNEEDEPLANTATION      30737 non-null  float64\n",
      " 20  RAISONDEPLANTATION     2706 non-null   object \n",
      " 21  TRAITEMENTCHENILLES    2225 non-null   object \n",
      " 22  COURRIER               0 non-null      float64\n",
      " 23  IDENTIFIANTPLU         604 non-null    float64\n",
      " 24  TYPEIMPLANTATIONPLU    604 non-null    object \n",
      " 25  INTITULEPROTECTIONPLU  604 non-null    object \n",
      " 26  ANNEEABATTAGE          0 non-null      float64\n",
      " 27  ESSOUCHEMENT           0 non-null      float64\n",
      " 28  DIAMETREARBRE          0 non-null      float64\n",
      " 29  CAUSEABATTAGE          0 non-null      float64\n",
      " 30  COLLECTIVITE           30737 non-null  object \n",
      " 31  GeoJSON                30737 non-null  object \n",
      "dtypes: float64(8), int64(2), object(22)\n",
      "memory usage: 7.7+ MB\n"
     ]
    }
   ],
   "source": [
    "# on supprime les lignes du df où l'année de plantation n'est pas renseignée\n",
    "df_arbres.dropna(subset=['ANNEEDEPLANTATION'],axis=0, inplace=True)\n",
    "df_arbres.info()"
   ]
  },
  {
   "cell_type": "code",
   "execution_count": 5,
   "metadata": {},
   "outputs": [
    {
     "name": "stdout",
     "output_type": "stream",
     "text": [
      "[5.71629235456888,45.1962643686965]\n",
      "{\"type\":\"Point\",\"coordinates\":[5.71629235456888,45.1962643686965]}\n"
     ]
    }
   ],
   "source": [
    "# on cherche à convertir GeoJSON en valeur numérique pour éventuellement s'en servir plus tard\n",
    "print(df_arbres.GeoJSON[0][30:-1])\n",
    "print(df_arbres.GeoJSON[0])"
   ]
  },
  {
   "cell_type": "code",
   "execution_count": 7,
   "metadata": {},
   "outputs": [],
   "source": [
    "import json\n",
    "GEO = df_arbres[\"GeoJSON\"].map(json.loads).apply(pd.Series)\n",
    "df_arbres_clean = df_arbres.assign(latitude=[i[1] for i in GEO.coordinates.to_list()])\n",
    "df_arbres_clean = df_arbres_clean.assign(longitude=[i[0] for i in GEO.coordinates.to_list()])\n",
    "df_arbres_clean.drop(['GeoJSON'],axis=1, inplace=True)"
   ]
  },
  {
   "cell_type": "code",
   "execution_count": 8,
   "metadata": {},
   "outputs": [],
   "source": [
    "# on enlève les catégories doublons\n",
    "df_arbres_clean.drop(['NOM','GENRE','CATEGORIE','SOUS_CATEGORIE','CODE_PARENT'],axis=1,inplace=True)"
   ]
  },
  {
   "cell_type": "code",
   "execution_count": 9,
   "metadata": {},
   "outputs": [],
   "source": [
    "# on enlève les colonnes où il n'y a qu'une seule valeur, elles n'apportent pas d'info\n",
    "df_arbres_clean.drop(['GENRE_DESC','CATEGORIE_DESC'],axis=1,inplace=True)"
   ]
  },
  {
   "cell_type": "code",
   "execution_count": 11,
   "metadata": {},
   "outputs": [],
   "source": [
    "# Après avoir clean le dataset, on split les données\n",
    "from sklearn.model_selection import train_test_split\n",
    "train_set, test_set = train_test_split(df_arbres_clean, test_size=0.2, random_state=42)"
   ]
  },
  {
   "cell_type": "code",
   "execution_count": 12,
   "metadata": {
    "scrolled": false
   },
   "outputs": [
    {
     "name": "stdout",
     "output_type": "stream",
     "text": [
      "<class 'pandas.core.frame.DataFrame'>\n",
      "Int64Index: 24589 entries, 15307 to 24470\n",
      "Data columns (total 26 columns):\n",
      " #   Column                 Non-Null Count  Dtype  \n",
      "---  ------                 --------------  -----  \n",
      " 0   ELEM_POINT_ID          24589 non-null  int64  \n",
      " 1   CODE                   24589 non-null  object \n",
      " 2   SOUS_CATEGORIE_DESC    24589 non-null  object \n",
      " 3   CODE_PARENT_DESC       24589 non-null  object \n",
      " 4   ADR_SECTEUR            24589 non-null  int64  \n",
      " 5   BIEN_REFERENCE         24589 non-null  object \n",
      " 6   GENRE_BOTA             24558 non-null  object \n",
      " 7   ESPECE                 23288 non-null  object \n",
      " 8   VARIETE                3316 non-null   object \n",
      " 9   STADEDEDEVELOPPEMENT   23242 non-null  object \n",
      " 10  EQUIPE                 0 non-null      float64\n",
      " 11  REMARQUES              1226 non-null   object \n",
      " 12  ANNEEDEPLANTATION      24589 non-null  float64\n",
      " 13  RAISONDEPLANTATION     2215 non-null   object \n",
      " 14  TRAITEMENTCHENILLES    1764 non-null   object \n",
      " 15  COURRIER               0 non-null      float64\n",
      " 16  IDENTIFIANTPLU         461 non-null    float64\n",
      " 17  TYPEIMPLANTATIONPLU    461 non-null    object \n",
      " 18  INTITULEPROTECTIONPLU  461 non-null    object \n",
      " 19  ANNEEABATTAGE          0 non-null      float64\n",
      " 20  ESSOUCHEMENT           0 non-null      float64\n",
      " 21  DIAMETREARBRE          0 non-null      float64\n",
      " 22  CAUSEABATTAGE          0 non-null      float64\n",
      " 23  COLLECTIVITE           24589 non-null  object \n",
      " 24  latitude               24589 non-null  float64\n",
      " 25  longitude              24589 non-null  float64\n",
      "dtypes: float64(10), int64(2), object(14)\n",
      "memory usage: 5.1+ MB\n"
     ]
    }
   ],
   "source": [
    "train_set.info()"
   ]
  },
  {
   "cell_type": "code",
   "execution_count": 13,
   "metadata": {},
   "outputs": [],
   "source": [
    "# on fait un pickle pour stocker notre df\n",
    "import pickle\n",
    "filename='data_df_arbre.pkl'\n",
    "df_arbres.to_pickle(\"Pickle_arbre.pkl\")"
   ]
  },
  {
   "cell_type": "code",
   "execution_count": 14,
   "metadata": {},
   "outputs": [],
   "source": [
    "# pour lire le pickle\n",
    "df = pd.read_pickle(\"Pickle_arbre.pkl\")"
   ]
  }
 ],
 "metadata": {
  "kernelspec": {
   "display_name": "Python 3",
   "language": "python",
   "name": "python3"
  },
  "language_info": {
   "codemirror_mode": {
    "name": "ipython",
    "version": 3
   },
   "file_extension": ".py",
   "mimetype": "text/x-python",
   "name": "python",
   "nbconvert_exporter": "python",
   "pygments_lexer": "ipython3",
   "version": "3.8.5"
  },
  "toc": {
   "base_numbering": 1,
   "nav_menu": {},
   "number_sections": true,
   "sideBar": true,
   "skip_h1_title": false,
   "title_cell": "Table of Contents",
   "title_sidebar": "Contents",
   "toc_cell": false,
   "toc_position": {},
   "toc_section_display": true,
   "toc_window_display": false
  }
 },
 "nbformat": 4,
 "nbformat_minor": 4
}
