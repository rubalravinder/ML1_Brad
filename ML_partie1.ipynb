{
 "cells": [
  {
   "cell_type": "code",
   "execution_count": 17,
   "metadata": {},
   "outputs": [],
   "source": [
    "import pandas as pd"
   ]
  },
  {
   "cell_type": "code",
   "execution_count": 18,
   "metadata": {},
   "outputs": [],
   "source": [
    "df_arbres=pd.read_csv('./data_arbres.csv')"
   ]
  },
  {
   "cell_type": "code",
   "execution_count": 19,
   "metadata": {
    "scrolled": true
   },
   "outputs": [
    {
     "name": "stdout",
     "output_type": "stream",
     "text": [
      "<class 'pandas.core.frame.DataFrame'>\n",
      "RangeIndex: 31852 entries, 0 to 31851\n",
      "Data columns (total 32 columns):\n",
      " #   Column                 Non-Null Count  Dtype  \n",
      "---  ------                 --------------  -----  \n",
      " 0   ELEM_POINT_ID          31852 non-null  int64  \n",
      " 1   CODE                   31852 non-null  object \n",
      " 2   NOM                    31852 non-null  object \n",
      " 3   GENRE                  31852 non-null  object \n",
      " 4   GENRE_DESC             31852 non-null  object \n",
      " 5   CATEGORIE              31852 non-null  object \n",
      " 6   CATEGORIE_DESC         31852 non-null  object \n",
      " 7   SOUS_CATEGORIE         31852 non-null  object \n",
      " 8   SOUS_CATEGORIE_DESC    31852 non-null  object \n",
      " 9   CODE_PARENT            31852 non-null  object \n",
      " 10  CODE_PARENT_DESC       31852 non-null  object \n",
      " 11  ADR_SECTEUR            31852 non-null  int64  \n",
      " 12  BIEN_REFERENCE         31852 non-null  object \n",
      " 13  GENRE_BOTA             31431 non-null  object \n",
      " 14  ESPECE                 29672 non-null  object \n",
      " 15  VARIETE                4184 non-null   object \n",
      " 16  STADEDEDEVELOPPEMENT   29192 non-null  object \n",
      " 17  EQUIPE                 0 non-null      float64\n",
      " 18  REMARQUES              1501 non-null   object \n",
      " 19  ANNEEDEPLANTATION      30737 non-null  float64\n",
      " 20  RAISONDEPLANTATION     2728 non-null   object \n",
      " 21  TRAITEMENTCHENILLES    2225 non-null   object \n",
      " 22  COURRIER               0 non-null      float64\n",
      " 23  IDENTIFIANTPLU         604 non-null    float64\n",
      " 24  TYPEIMPLANTATIONPLU    604 non-null    object \n",
      " 25  INTITULEPROTECTIONPLU  604 non-null    object \n",
      " 26  ANNEEABATTAGE          0 non-null      float64\n",
      " 27  ESSOUCHEMENT           0 non-null      float64\n",
      " 28  DIAMETREARBRE          0 non-null      float64\n",
      " 29  CAUSEABATTAGE          0 non-null      float64\n",
      " 30  COLLECTIVITE           31104 non-null  object \n",
      " 31  GeoJSON                31852 non-null  object \n",
      "dtypes: float64(8), int64(2), object(22)\n",
      "memory usage: 7.8+ MB\n"
     ]
    }
   ],
   "source": [
    "df_arbres.info()"
   ]
  },
  {
   "cell_type": "code",
   "execution_count": 22,
   "metadata": {},
   "outputs": [
    {
     "name": "stdout",
     "output_type": "stream",
     "text": [
      "<class 'pandas.core.frame.DataFrame'>\n",
      "Int64Index: 30737 entries, 0 to 31851\n",
      "Data columns (total 32 columns):\n",
      " #   Column                 Non-Null Count  Dtype  \n",
      "---  ------                 --------------  -----  \n",
      " 0   ELEM_POINT_ID          30737 non-null  int64  \n",
      " 1   CODE                   30737 non-null  object \n",
      " 2   NOM                    30737 non-null  object \n",
      " 3   GENRE                  30737 non-null  object \n",
      " 4   GENRE_DESC             30737 non-null  object \n",
      " 5   CATEGORIE              30737 non-null  object \n",
      " 6   CATEGORIE_DESC         30737 non-null  object \n",
      " 7   SOUS_CATEGORIE         30737 non-null  object \n",
      " 8   SOUS_CATEGORIE_DESC    30737 non-null  object \n",
      " 9   CODE_PARENT            30737 non-null  object \n",
      " 10  CODE_PARENT_DESC       30737 non-null  object \n",
      " 11  ADR_SECTEUR            30737 non-null  int64  \n",
      " 12  BIEN_REFERENCE         30737 non-null  object \n",
      " 13  GENRE_BOTA             30700 non-null  object \n",
      " 14  ESPECE                 29109 non-null  object \n",
      " 15  VARIETE                4137 non-null   object \n",
      " 16  STADEDEDEVELOPPEMENT   29105 non-null  object \n",
      " 17  EQUIPE                 0 non-null      float64\n",
      " 18  REMARQUES              1500 non-null   object \n",
      " 19  ANNEEDEPLANTATION      30737 non-null  float64\n",
      " 20  RAISONDEPLANTATION     2706 non-null   object \n",
      " 21  TRAITEMENTCHENILLES    2225 non-null   object \n",
      " 22  COURRIER               0 non-null      float64\n",
      " 23  IDENTIFIANTPLU         604 non-null    float64\n",
      " 24  TYPEIMPLANTATIONPLU    604 non-null    object \n",
      " 25  INTITULEPROTECTIONPLU  604 non-null    object \n",
      " 26  ANNEEABATTAGE          0 non-null      float64\n",
      " 27  ESSOUCHEMENT           0 non-null      float64\n",
      " 28  DIAMETREARBRE          0 non-null      float64\n",
      " 29  CAUSEABATTAGE          0 non-null      float64\n",
      " 30  COLLECTIVITE           30737 non-null  object \n",
      " 31  GeoJSON                30737 non-null  object \n",
      "dtypes: float64(8), int64(2), object(22)\n",
      "memory usage: 7.7+ MB\n"
     ]
    }
   ],
   "source": [
    "# on supprime les lignes du df où l'année de plantation n'est pas renseignée\n",
    "df_arbres.dropna(subset=['ANNEEDEPLANTATION'],axis=0, inplace=True)\n",
    "df_arbres.info()"
   ]
  },
  {
   "cell_type": "code",
   "execution_count": 50,
   "metadata": {},
   "outputs": [
    {
     "data": {
      "text/plain": [
       "'[5.71629235456888,45.1962643686965]'"
      ]
     },
     "execution_count": 50,
     "metadata": {},
     "output_type": "execute_result"
    }
   ],
   "source": [
    "# on cherche à convertir GeoJSON en valeur numérique\n",
    "df_arbres.GeoJSON[0][30:-1]"
   ]
  },
  {
   "cell_type": "code",
   "execution_count": null,
   "metadata": {},
   "outputs": [],
   "source": []
  },
  {
   "cell_type": "code",
   "execution_count": 3,
   "metadata": {},
   "outputs": [],
   "source": [
    "# Après avoir dropna sur année de plantation et convertit GeoJSON en valeur numérique, on split les données\n",
    "from sklearn.model_selection import train_test_split\n",
    "train_set, test_set = train_test_split(df_arbres, test_size=0.2, random_state=42)"
   ]
  },
  {
   "cell_type": "code",
   "execution_count": 10,
   "metadata": {},
   "outputs": [
    {
     "name": "stderr",
     "output_type": "stream",
     "text": [
      "C:\\Users\\Rubal\\anaconda3\\lib\\site-packages\\pandas\\core\\frame.py:4163: SettingWithCopyWarning: \n",
      "A value is trying to be set on a copy of a slice from a DataFrame\n",
      "\n",
      "See the caveats in the documentation: https://pandas.pydata.org/pandas-docs/stable/user_guide/indexing.html#returning-a-view-versus-a-copy\n",
      "  return super().drop(\n"
     ]
    }
   ],
   "source": [
    "train_set.drop(['NOM','GENRE','CATEGORIE','SOUS_CATEGORIE','CODE_PARENT'],axis=1,inplace=True)"
   ]
  },
  {
   "cell_type": "code",
   "execution_count": 11,
   "metadata": {
    "scrolled": false
   },
   "outputs": [
    {
     "name": "stdout",
     "output_type": "stream",
     "text": [
      "<class 'pandas.core.frame.DataFrame'>\n",
      "Int64Index: 22232 entries, 9621 to 15795\n",
      "Data columns (total 14 columns):\n",
      " #   Column                Non-Null Count  Dtype  \n",
      "---  ------                --------------  -----  \n",
      " 0   ELEM_POINT_ID         22232 non-null  int64  \n",
      " 1   CODE                  22232 non-null  object \n",
      " 2   GENRE_DESC            22232 non-null  object \n",
      " 3   CATEGORIE_DESC        22232 non-null  object \n",
      " 4   SOUS_CATEGORIE_DESC   22232 non-null  object \n",
      " 5   CODE_PARENT_DESC      22232 non-null  object \n",
      " 6   ADR_SECTEUR           22232 non-null  int64  \n",
      " 7   BIEN_REFERENCE        22232 non-null  object \n",
      " 8   GENRE_BOTA            22232 non-null  object \n",
      " 9   ESPECE                22232 non-null  object \n",
      " 10  STADEDEDEVELOPPEMENT  22232 non-null  object \n",
      " 11  ANNEEDEPLANTATION     22232 non-null  float64\n",
      " 12  COLLECTIVITE          22232 non-null  object \n",
      " 13  GeoJSON               22232 non-null  object \n",
      "dtypes: float64(1), int64(2), object(11)\n",
      "memory usage: 2.5+ MB\n"
     ]
    }
   ],
   "source": [
    "train_set.info()"
   ]
  },
  {
   "cell_type": "code",
   "execution_count": 6,
   "metadata": {},
   "outputs": [
    {
     "name": "stderr",
     "output_type": "stream",
     "text": [
      "C:\\Users\\Rubal\\anaconda3\\lib\\site-packages\\pandas\\core\\frame.py:4163: SettingWithCopyWarning: \n",
      "A value is trying to be set on a copy of a slice from a DataFrame\n",
      "\n",
      "See the caveats in the documentation: https://pandas.pydata.org/pandas-docs/stable/user_guide/indexing.html#returning-a-view-versus-a-copy\n",
      "  return super().drop(\n"
     ]
    }
   ],
   "source": [
    "# on supprime les colonnes où il y a moins de 23000 valeurs non-nulles\n",
    "# train_set.drop(['VARIETE', 'EQUIPE','REMARQUES','RAISONDEPLANTATION','TRAITEMENTCHENILLES','COURRIER','IDENTIFIANTPLU','INTITULEPROTECTIONPLU','TYPEIMPLANTATIONPLU','ANNEEABATTAGE','ESSOUCHEMENT',\"DIAMETREARBRE\",'CAUSEABATTAGE'],axis=1,inplace=True)"
   ]
  },
  {
   "cell_type": "code",
   "execution_count": 63,
   "metadata": {},
   "outputs": [],
   "source": [
    "# on enlève la variable qu'on va faire chercher à deviner par l'algorithme\n",
    "df_anneedeplantation = df_arbres.pop(\"ANNEEDEPLANTATION\")"
   ]
  },
  {
   "cell_type": "code",
   "execution_count": 66,
   "metadata": {},
   "outputs": [
    {
     "data": {
      "text/plain": [
       "array([[2.1707e+04, 1.6275e+04, 0.0000e+00, 0.0000e+00, 2.0000e+00,\n",
       "        5.1800e+02, 1.0000e+00, 1.6275e+04, 8.0000e+01, 2.0000e+00,\n",
       "        0.0000e+00, 1.0000e+00, 6.4780e+03],\n",
       "       [9.7560e+03, 1.6065e+04, 0.0000e+00, 0.0000e+00, 2.0000e+00,\n",
       "        5.1800e+02, 1.0000e+00, 1.6065e+04, 8.0000e+01, 2.0000e+00,\n",
       "        2.0000e+00, 0.0000e+00, 6.5800e+03],\n",
       "       [9.7530e+03, 1.6064e+04, 0.0000e+00, 0.0000e+00, 2.0000e+00,\n",
       "        5.1800e+02, 1.0000e+00, 1.6064e+04, 8.0000e+01, 2.0000e+00,\n",
       "        2.0000e+00, 1.0000e+00, 6.4690e+03],\n",
       "       [1.8723e+04, 1.6003e+04, 0.0000e+00, 0.0000e+00, 2.0000e+00,\n",
       "        5.1800e+02, 1.0000e+00, 1.6003e+04, 8.0000e+01, 2.0000e+00,\n",
       "        0.0000e+00, 1.0000e+00, 6.5050e+03],\n",
       "       [1.2748e+04, 1.5566e+04, 0.0000e+00, 0.0000e+00, 2.0000e+00,\n",
       "        5.1800e+02, 1.0000e+00, 1.5566e+04, 8.0000e+01, 2.0000e+00,\n",
       "        2.0000e+00, 1.0000e+00, 6.4040e+03]])"
      ]
     },
     "execution_count": 66,
     "metadata": {},
     "output_type": "execute_result"
    }
   ],
   "source": [
    "# pour transformer les variables qualitatives en variables quantitatives\n",
    "from sklearn.preprocessing import OrdinalEncoder\n",
    "ordinal_encoder = OrdinalEncoder()\n",
    "df_encoded = ordinal_encoder.fit_transform(df_arbres)\n",
    "df_encoded[:5]"
   ]
  },
  {
   "cell_type": "code",
   "execution_count": 67,
   "metadata": {},
   "outputs": [
    {
     "data": {
      "text/plain": [
       "[array([    1,     2,     3, ..., 42922, 42923, 42941], dtype=int64),\n",
       " array(['ESP10000', 'ESP10001', 'ESP10002', ..., 'ESP9997', 'ESP9998',\n",
       "        'ESP9999'], dtype=object),\n",
       " array(['VEGETATION'], dtype=object),\n",
       " array(['Arbre'], dtype=object),\n",
       " array([\"Arbre d'enceintes fermées\", \"Arbre d'espaces ouverts\",\n",
       "        'Arbre de voirie', 'Bois semi naturel'], dtype=object),\n",
       " array(['A A Lorraine Jaures à la Gare', 'A A Lorraine la Gare à Jaures',\n",
       "        'A DL Weill Arménie à Esclangon', ...,\n",
       "        'Voie E O Stalingrad Berthelot', 'Voie E O cote voie ferree',\n",
       "        'Voie E O zone éduc routière'], dtype=object),\n",
       " array([1, 2, 3, 4, 5, 6], dtype=int64),\n",
       " array(['AR10000', 'AR10001', 'AR10002', ..., 'AR9997', 'AR9998', 'AR9999'],\n",
       "       dtype=object),\n",
       " array(['Abies', 'Acer', 'Aesculus', 'Ailanthus', 'Albizia', 'Alnus',\n",
       "        'Amélanchier', 'Araucaria', 'Betula', 'Broussonetia', 'Buxus',\n",
       "        'Calocedrus', 'Carpinus', 'Castanea', 'Catalpa', 'Cedrela',\n",
       "        'Cedrus', 'Celtis', 'Cephalotaxus', 'Cercidiphyllum', 'Cercis',\n",
       "        'Chamaecyparis', 'Chimonanthus', 'Chionanthus', 'Chitalpa',\n",
       "        'Cladastris', 'Clerodendron', 'Cornus', 'Corylus', 'Cotinus',\n",
       "        'Crataegus', 'Cryptomeria', 'Cupressocyparis', 'Cupressus',\n",
       "        'Cydonia', 'Davidia', 'Diospyros', 'Eleagnus', 'Eriobotrya ',\n",
       "        'Eucalyptus', 'Euodia', 'Fagus', 'Ficus', 'Fontanesia', 'Fraxinus',\n",
       "        'Ginkgo', 'Gleditsia', 'Gymnocladus', 'Halesia', 'Hovenia',\n",
       "        'Idesia', 'Ilex', 'Juglans', 'Juniperus', 'Koelreuteria',\n",
       "        'Laburnum', 'Lagerstroemia', 'Larix', 'Libocedrus', 'Ligustrum',\n",
       "        'Liquidambar', 'Liriodendron', 'Lonicera', 'Maclura', 'Magnolia',\n",
       "        'Malus', 'Mespilus', 'Metasequoia', 'Morus', 'Nyssa', 'Olea',\n",
       "        'Ostrya', 'Parrotia', 'Paulownia', 'Phellodendron', 'Phillyrea',\n",
       "        'Photinia', 'Picea', 'Pinus', 'Pistacia', 'Platanus', 'Populus',\n",
       "        'Prunus', 'Pseudotsuga', 'Ptelea', 'Pterocarya', 'Pteroceltis',\n",
       "        'Pterostyrax', 'Punica', 'Pyrus', 'Quercus', 'Rhamnus', 'Rhus',\n",
       "        'Robinia', 'Salix', 'Sambucus', 'Sciadopitys', 'Sequoia',\n",
       "        'Sequoiadendron', 'Sophora', 'Sorbopyrus', 'Sorbus', 'Staphylea',\n",
       "        'Sterculia', 'Styrax', 'Syringa', 'Taxodium', 'Taxus', 'Tetradium',\n",
       "        'Thuja', 'Tilia', 'Trachycarpus', 'Ulmus', 'Zelkova'], dtype=object),\n",
       " array(['abies', 'accolade', 'acerifolia', 'acutissima', 'alaternus',\n",
       "        'alba', 'alnifolia', 'altissima', 'americana', 'amurense',\n",
       "        'amygdaliformis', 'amygdalus', 'anagyroides', 'angustifolia',\n",
       "        'aquifolium', 'araucana', 'aria', 'arizonica', 'armeniaca',\n",
       "        'atlantica', 'aucuparia', 'auricularis', 'australis', 'avellana',\n",
       "        'avium', 'babylonica', 'baccata', 'betulus', 'bicolor',\n",
       "        'bignonoides', 'biloba', 'bombycis', 'buergerianum', 'bumalda',\n",
       "        'calleryana', 'campanulata', 'campestre', 'campestris',\n",
       "        'canadensis', 'cappadocicum', 'caprea', 'carica', 'carnea',\n",
       "        'carolina', 'carpinifolia', 'castaneifolia', 'cerasifera',\n",
       "        'cerasus', 'cerris', 'chamaemespilus', 'chandelle seche',\n",
       "        'chinensis', 'coccinea', 'coggygria', 'colurna', 'communis',\n",
       "        'concolor', 'controversa', 'cordata', 'crenata', 'crus-galli',\n",
       "        'cuspidata', 'daniellii', 'davidii', 'decidua', 'decurrens',\n",
       "        'deodara', 'dioicus', 'distychum', 'domestica', 'drupacea',\n",
       "        'dulcis', 'euchlora', 'europaea', 'excelsior', 'falcata',\n",
       "        'floribunda', 'florida', 'foetida', 'formosensis', 'fortunei',\n",
       "        'fragmantissima', 'frainetto', 'fraxinifolia', 'freemanii',\n",
       "        'germanica', 'giganteum', 'ginnala', 'glabra', 'glutinosa',\n",
       "        'glyptostroboides', 'granatum', 'grandiflora', 'griseum', 'gunii',\n",
       "        'harringtonia', 'heldreichii', 'henryana', 'heptapeta',\n",
       "        'hippocastanum', 'hispanica', 'hispida', 'hupehensis', 'hybride',\n",
       "        'ilex', 'imbricaria', 'incana', 'incisa', 'indica', 'involucrata',\n",
       "        'ioenis', 'japonica', 'japonicum', 'julianae', 'julibrissin',\n",
       "        'kaki', 'kiusiana', 'kobus', 'laevigata', 'laevis', 'lamarckii',\n",
       "        'latifolia', 'laurocerasus', 'lavallei', 'lawsoniana', 'leylandii',\n",
       "        'libani', 'lotus', 'lusitanica', 'lutea', 'macrocarpa',\n",
       "        'mandshurica', 'mariesii', 'mas', 'matsudana', 'menziesii',\n",
       "        'minor', 'mongolica', 'monogyna', 'monspessulanum', 'monticola',\n",
       "        'mugo', 'myrsinifolia', 'negundo', 'nigra', 'nikoense', 'nivalis',\n",
       "        'nootkatensis', 'nordmanniana', 'oblonga', 'occidentalis',\n",
       "        'omorika', 'opalus', 'orientalis', 'ornus', 'ovalis', 'oxyacantha',\n",
       "        'oxycarpa', 'padus', 'palmatum', 'palustris', 'paniculata',\n",
       "        'papyrifera', 'parviflora', 'parvifolia', 'pavia', 'pendula',\n",
       "        'pennsylvanica', 'pensylvanicum', 'perpetu', 'persica', 'petraea',\n",
       "        'phellos', 'phillyreoides', 'pinea', 'pinsapo', 'pisifera',\n",
       "        'platanoides', 'platanor', 'platyphyllos', 'plicata', 'polycarpa',\n",
       "        'pomifera', 'praecox', 'pseudoacacia', 'pseudoplatanus', 'pungens',\n",
       "        'purpurea', 'pyrifolia', 'quadrangulata', 'regia', 'resista',\n",
       "        'reticulata', 'retusus', 'robur', 'rosmarinifolia', 'rubra',\n",
       "        'rubrum', 'rysophylla', 'saccharinum', 'salicifolia', 'sativa',\n",
       "        'sempervirens', 'sepulcralis', 'serotina', 'serrata', 'serrulata',\n",
       "        'sieboldiana', 'sieboldii', 'siliquastrum', 'simonii', 'sinense',\n",
       "        'sinensis', 'soulangeana', 'spaethii', 'spectabilis', 'spinosa',\n",
       "        'stellata', 'stenoptera', 'strobus', 'styraciflua', 'suber',\n",
       "        'subhirtella', 'sylvatica', 'sylvestris', 'tartaricum',\n",
       "        'tashkentensis', 'tatarinowii', 'thuringiaca', 'tomentosa',\n",
       "        'torminalis', 'tremula', 'triacanthos', 'triandra', 'tricotonum',\n",
       "        'trifoliata', 'tschonoskii', 'tulipifera', 'turneri', 'typhina',\n",
       "        'utilis', 'variabilis', 'velutina', 'verrucosa', 'verticillata',\n",
       "        'villosa', 'viminalis', 'virginiana', 'virginicus', 'vulgaris',\n",
       "        'wallichiana', 'yedoensis', 'zoeschense'], dtype=object),\n",
       " array(['Arbre adulte', 'Arbre jeune', 'Arbre vieillissant'], dtype=object),\n",
       " array(['Grenoble Alpes Métropole', 'Ville de Grenoble'], dtype=object),\n",
       " array(['{\"type\":\"Point\",\"coordinates\":[5.69791504775311,45.2044109432404]}',\n",
       "        '{\"type\":\"Point\",\"coordinates\":[5.69799940584727,45.204466652034]}',\n",
       "        '{\"type\":\"Point\",\"coordinates\":[5.69801685817468,45.2070230539992]}',\n",
       "        ...,\n",
       "        '{\"type\":\"Point\",\"coordinates\":[5.7984581096628,45.224071981731]}',\n",
       "        '{\"type\":\"Point\",\"coordinates\":[5.79851176155483,45.2245090745087]}',\n",
       "        '{\"type\":\"Point\",\"coordinates\":[5.79870388208095,45.2241899631039]}'],\n",
       "       dtype=object)]"
      ]
     },
     "execution_count": 67,
     "metadata": {},
     "output_type": "execute_result"
    }
   ],
   "source": [
    "ordinal_encoder.categories_\n",
    "# on voit les catégories distinguées pour chaque colonne. Certaines colonnes ont qu'une seule catégorie:\n",
    "# GENRE_DESC et CATEGORIE_DESC"
   ]
  },
  {
   "cell_type": "code",
   "execution_count": 68,
   "metadata": {},
   "outputs": [],
   "source": [
    "df_arbres.drop(['GENRE_DESC','CATEGORIE_DESC'],axis=1,inplace=True)"
   ]
  },
  {
   "cell_type": "code",
   "execution_count": null,
   "metadata": {},
   "outputs": [],
   "source": []
  },
  {
   "cell_type": "code",
   "execution_count": 50,
   "metadata": {},
   "outputs": [],
   "source": [
    "# on fait un pickle pour stocker notre df\n",
    "import pickle\n",
    "filename='data_df_arbre.pkl'\n",
    "df_arbres.to_pickle(\"Pickle_arbre.pkl\")"
   ]
  },
  {
   "cell_type": "code",
   "execution_count": 51,
   "metadata": {},
   "outputs": [],
   "source": [
    "# pour lire le pickle\n",
    "df = pd.read_pickle(\"Pickle_arbre.pkl\")"
   ]
  }
 ],
 "metadata": {
  "kernelspec": {
   "display_name": "Python 3",
   "language": "python",
   "name": "python3"
  },
  "language_info": {
   "codemirror_mode": {
    "name": "ipython",
    "version": 3
   },
   "file_extension": ".py",
   "mimetype": "text/x-python",
   "name": "python",
   "nbconvert_exporter": "python",
   "pygments_lexer": "ipython3",
   "version": "3.8.5"
  },
  "toc": {
   "base_numbering": 1,
   "nav_menu": {},
   "number_sections": true,
   "sideBar": true,
   "skip_h1_title": false,
   "title_cell": "Table of Contents",
   "title_sidebar": "Contents",
   "toc_cell": false,
   "toc_position": {},
   "toc_section_display": true,
   "toc_window_display": false
  }
 },
 "nbformat": 4,
 "nbformat_minor": 4
}
